{
  "nbformat": 4,
  "nbformat_minor": 0,
  "metadata": {
    "colab": {
      "name": "Untitled5.ipynb",
      "provenance": [],
      "collapsed_sections": [],
      "include_colab_link": true
    },
    "kernelspec": {
      "name": "python3",
      "display_name": "Python 3"
    },
    "accelerator": "GPU"
  },
  "cells": [
    {
      "cell_type": "markdown",
      "metadata": {
        "id": "view-in-github",
        "colab_type": "text"
      },
      "source": [
        "<a href=\"https://colab.research.google.com/github/omarmohamed2011/AI-for-medical-diagnosis/blob/master/Untitled5.ipynb\" target=\"_parent\"><img src=\"https://colab.research.google.com/assets/colab-badge.svg\" alt=\"Open In Colab\"/></a>"
      ]
    },
    {
      "cell_type": "code",
      "metadata": {
        "colab": {
          "base_uri": "https://localhost:8080/"
        },
        "id": "E5OjBmByQyAW",
        "outputId": "ac2669bf-90d4-4025-8cb4-fe19705a636d"
      },
      "source": [
        "from google.colab import drive\r\n",
        "drive.mount('/content/drive')"
      ],
      "execution_count": 1,
      "outputs": [
        {
          "output_type": "stream",
          "text": [
            "Mounted at /content/drive\n"
          ],
          "name": "stdout"
        }
      ]
    },
    {
      "cell_type": "code",
      "metadata": {
        "id": "g4yJRyFZTyFr"
      },
      "source": [
        "from numpy.random import seed\r\n",
        "seed(8) #1\r\n",
        "\r\n",
        "import tensorflow\r\n",
        "tensorflow.random.set_seed(7)\r\n",
        "\r\n",
        "import numpy as np # linear algebra\r\n",
        "import pandas as pd # data processing, CSV file I/O (e.g. pd.read_csv)\r\n",
        "\r\n",
        "import os\r\n",
        "\r\n",
        "from tensorflow.keras import backend as K\r\n",
        "from tensorflow.keras.models import Model ,load_model\r\n",
        "from tensorflow.keras.layers import Flatten, Dense, Dropout\r\n",
        "from tensorflow.keras.applications.inception_resnet_v2 import InceptionResNetV2, preprocess_input\r\n",
        "from keras.applications.vgg16 import preprocess_input\r\n",
        "from keras.applications.vgg16 import decode_predictions\r\n",
        "from keras.applications.vgg16 import VGG16\r\n",
        "from tensorflow.keras.optimizers import Adam, RMSprop\r\n",
        "from tensorflow.keras.preprocessing.image import ImageDataGenerator\r\n",
        "from tensorflow.keras.callbacks import ModelCheckpoint\r\n",
        "import numpy as np\r\n",
        "import tensorflow as tf\r\n",
        "\r\n",
        "from tensorflow.python.keras import models\r\n",
        "from tensorflow.python.keras import layers\r\n",
        "\r\n",
        "from tensorflow.keras import optimizers"
      ],
      "execution_count": 6,
      "outputs": []
    },
    {
      "cell_type": "code",
      "metadata": {
        "colab": {
          "base_uri": "https://localhost:8080/"
        },
        "id": "0mM6_ufYT0vm",
        "outputId": "de003cba-592a-4ba9-c850-92435a85b1c6"
      },
      "source": [
        "print(os.listdir(\"/content/drive/MyDrive/four_classes\"))"
      ],
      "execution_count": 12,
      "outputs": [
        {
          "output_type": "stream",
          "text": [
            "['test', 'train']\n"
          ],
          "name": "stdout"
        }
      ]
    },
    {
      "cell_type": "code",
      "metadata": {
        "colab": {
          "base_uri": "https://localhost:8080/"
        },
        "id": "4qpCn--CUJxi",
        "outputId": "645d6d99-2b01-4dce-ab4e-b8a58aeccfec"
      },
      "source": [
        "ls /content/drive/MyDrive/four_classes/train"
      ],
      "execution_count": 15,
      "outputs": [
        {
          "output_type": "stream",
          "text": [
            "\u001b[0m\u001b[01;34mcovid\u001b[0m/  \u001b[01;34mnormal\u001b[0m/  \u001b[01;34mpneumonia_bacterial\u001b[0m/  \u001b[01;34mpneumonia_viral\u001b[0m/\n"
          ],
          "name": "stdout"
        }
      ]
    },
    {
      "cell_type": "code",
      "metadata": {
        "id": "Hy2ajtVxU2Jc",
        "colab": {
          "base_uri": "https://localhost:8080/"
        },
        "outputId": "59ccbef5-0319-4339-961f-cb2688873809"
      },
      "source": [
        "from os import listdir\r\n",
        "#data_list = listdir('/content/covid-19/four_classes/train')\r\n",
        "data_list = listdir('/content/drive/MyDrive/four_classes/train')\r\n",
        "\r\n",
        "#Delete some classes that may interfere\r\n",
        "\r\n",
        "print(len(data_list))\r\n",
        "\r\n",
        "#A= listdir('/content/drive/MyDrive/covid-19-dataset/covid_folds/Fold1/covid') + listdir('/content/drive/MyDrive/covid-19-dataset/covid_folds/Fold2/covid')\r\n",
        "#B= os.path.join('/content/drive/MyDrive/covid-19-dataset/covid_folds/training folds', 'A')\r\n",
        "#covid = listdir(B)\r\n",
        "#print(len(covid))\r\n",
        "\r\n",
        "DATASET_PATH  = '/content/drive/MyDrive/four_classes/train'\r\n",
        "test_dir =  '/content/drive/MyDrive/four_classes/test'\r\n",
        "IMAGE_SIZE    = (150, 150)\r\n",
        "NUM_CLASSES   = len(data_list)\r\n",
        "BATCH_SIZE    = 32  # try reducing batch size or freeze more layers if your GPU runs out of memory\r\n",
        "NUM_EPOCHS    = 80\r\n",
        "LEARNING_RATE = 0.0001\r\n",
        "\r\n",
        "\r\n",
        "\r\n",
        "#Train datagen here is a preprocessor\r\n",
        "train_datagen = ImageDataGenerator(rescale=1./255,\r\n",
        "                                   rotation_range=50,\r\n",
        "                                   featurewise_center = True,\r\n",
        "                                   featurewise_std_normalization = True,\r\n",
        "                                   width_shift_range=0.2,\r\n",
        "                                   height_shift_range=0.2,\r\n",
        "                                   shear_range=0.25,\r\n",
        "                                   zoom_range=0.1,\r\n",
        "                                   zca_whitening = True,\r\n",
        "                                   channel_shift_range = 20,\r\n",
        "                                   horizontal_flip = True ,\r\n",
        "                                   vertical_flip = True ,\r\n",
        "                                   validation_split = 0.2,\r\n",
        "                                   fill_mode='constant')\r\n",
        "\r\n",
        "\r\n",
        "\r\n",
        "# For multiclass use categorical n for binary use binary\r\n",
        "train_batches = train_datagen.flow_from_directory(DATASET_PATH,\r\n",
        "                                                  target_size=IMAGE_SIZE,\r\n",
        "                                                  shuffle=True,                                              \r\n",
        "                                                  batch_size=BATCH_SIZE,\r\n",
        "                                                  subset = \"training\",\r\n",
        "                                                  seed=42,\r\n",
        "                                                  class_mode=\"categorical\"   #For multiclass use categorical n for binary use binary\r\n",
        "                                                  )\r\n",
        "\r\n",
        "valid_batches = train_datagen.flow_from_directory(DATASET_PATH,\r\n",
        "                                                  target_size=IMAGE_SIZE,\r\n",
        "                                                  shuffle=True,\r\n",
        "                                                  batch_size=BATCH_SIZE,\r\n",
        "                                                  subset = \"validation\",\r\n",
        "                                                  seed=42,\r\n",
        "                                                  class_mode=\"categorical\"  #For multiclass use categorical n for binary use binary\r\n",
        "                                                  )\r\n"
      ],
      "execution_count": 65,
      "outputs": [
        {
          "output_type": "stream",
          "text": [
            "4\n",
            "Found 1119 images belonging to 4 classes.\n",
            "Found 277 images belonging to 4 classes.\n"
          ],
          "name": "stdout"
        },
        {
          "output_type": "stream",
          "text": [
            "/usr/local/lib/python3.6/dist-packages/keras_preprocessing/image/image_data_generator.py:342: UserWarning: This ImageDataGenerator specifies `zca_whitening` which overrides setting of`featurewise_std_normalization`.\n",
            "  warnings.warn('This ImageDataGenerator specifies '\n"
          ],
          "name": "stderr"
        }
      ]
    },
    {
      "cell_type": "code",
      "metadata": {
        "id": "KS-_bBFgYsgu"
      },
      "source": [
        "from tensorflow.keras.applications import Xception\r\n",
        "\r\n",
        "conv_base = Xception(weights='imagenet',\r\n",
        "                  include_top=False,\r\n",
        "                  input_shape=(150, 150, 3))\r\n",
        "conv_base.trainable = True\r\n",
        "\r\n",
        "model = models.Sequential()\r\n",
        "model.add(conv_base)\r\n",
        "\r\n",
        "model.add(layers.Flatten())\r\n",
        "model.add(layers.Dropout(0.5))\r\n",
        "model.add(layers.Dense(256, activation='relu'))\r\n",
        "model.add(layers.Dense(4, activation='softmax'))\r\n",
        "\r\n",
        "model.compile(loss='categorical_crossentropy',     #for multiclass use categorical_crossentropy\r\n",
        "              optimizer=optimizers.Adam(lr=LEARNING_RATE),\r\n",
        "              metrics=['acc'])"
      ],
      "execution_count": 66,
      "outputs": []
    },
    {
      "cell_type": "code",
      "metadata": {
        "id": "M93rfO62bKr_",
        "colab": {
          "base_uri": "https://localhost:8080/"
        },
        "outputId": "55afb17b-7f5e-40b6-b3de-dfc65d2255a4"
      },
      "source": [
        "print(model.summary())"
      ],
      "execution_count": 67,
      "outputs": [
        {
          "output_type": "stream",
          "text": [
            "Model: \"sequential_3\"\n",
            "_________________________________________________________________\n",
            "Layer (type)                 Output Shape              Param #   \n",
            "=================================================================\n",
            "xception (Functional)        (None, 5, 5, 2048)        20861480  \n",
            "_________________________________________________________________\n",
            "flatten_3 (Flatten)          (None, 51200)             0         \n",
            "_________________________________________________________________\n",
            "dropout_3 (Dropout)          (None, 51200)             0         \n",
            "_________________________________________________________________\n",
            "dense_6 (Dense)              (None, 256)               13107456  \n",
            "_________________________________________________________________\n",
            "dense_7 (Dense)              (None, 4)                 1028      \n",
            "=================================================================\n",
            "Total params: 33,969,964\n",
            "Trainable params: 33,915,436\n",
            "Non-trainable params: 54,528\n",
            "_________________________________________________________________\n",
            "None\n"
          ],
          "name": "stdout"
        }
      ]
    },
    {
      "cell_type": "code",
      "metadata": {
        "id": "w8YstwOLbORv",
        "colab": {
          "base_uri": "https://localhost:8080/"
        },
        "outputId": "eb3e787a-a0e3-4408-dbb2-9a9c58f50abb"
      },
      "source": [
        "print(len(train_batches))\r\n",
        "print(len(valid_batches))\r\n",
        "\r\n",
        "STEP_SIZE_TRAIN=train_batches.n//train_batches.batch_size\r\n",
        "STEP_SIZE_VALID=valid_batches.n//valid_batches.batch_size\r\n",
        "\r\n",
        "result=model.fit_generator(train_batches,\r\n",
        "                        steps_per_epoch =STEP_SIZE_TRAIN,\r\n",
        "                        validation_data = valid_batches,\r\n",
        "                        validation_steps = STEP_SIZE_VALID,\r\n",
        "                        epochs= NUM_EPOCHS-30,                        \r\n",
        "                       )"
      ],
      "execution_count": 68,
      "outputs": [
        {
          "output_type": "stream",
          "text": [
            "35\n",
            "9\n"
          ],
          "name": "stdout"
        },
        {
          "output_type": "stream",
          "text": [
            "/usr/local/lib/python3.6/dist-packages/tensorflow/python/keras/engine/training.py:1844: UserWarning: `Model.fit_generator` is deprecated and will be removed in a future version. Please use `Model.fit`, which supports generators.\n",
            "  warnings.warn('`Model.fit_generator` is deprecated and '\n",
            "/usr/local/lib/python3.6/dist-packages/keras_preprocessing/image/image_data_generator.py:720: UserWarning: This ImageDataGenerator specifies `featurewise_center`, but it hasn't been fit on any training data. Fit it first by calling `.fit(numpy_data)`.\n",
            "  warnings.warn('This ImageDataGenerator specifies '\n",
            "/usr/local/lib/python3.6/dist-packages/keras_preprocessing/image/image_data_generator.py:739: UserWarning: This ImageDataGenerator specifies `zca_whitening`, but it hasn't been fit on any training data. Fit it first by calling `.fit(numpy_data)`.\n",
            "  warnings.warn('This ImageDataGenerator specifies '\n"
          ],
          "name": "stderr"
        },
        {
          "output_type": "stream",
          "text": [
            "Epoch 1/50\n",
            "34/34 [==============================] - 38s 963ms/step - loss: 1.3342 - acc: 0.4077 - val_loss: 0.8008 - val_acc: 0.6914\n",
            "Epoch 2/50\n",
            "34/34 [==============================] - 32s 923ms/step - loss: 0.5989 - acc: 0.7514 - val_loss: 0.8311 - val_acc: 0.7109\n",
            "Epoch 3/50\n",
            "34/34 [==============================] - 32s 933ms/step - loss: 0.4266 - acc: 0.8254 - val_loss: 0.6012 - val_acc: 0.7617\n",
            "Epoch 4/50\n",
            "34/34 [==============================] - 32s 924ms/step - loss: 0.4167 - acc: 0.8469 - val_loss: 0.7853 - val_acc: 0.7188\n",
            "Epoch 5/50\n",
            "34/34 [==============================] - 32s 929ms/step - loss: 0.3989 - acc: 0.8473 - val_loss: 0.7433 - val_acc: 0.7305\n",
            "Epoch 6/50\n",
            "34/34 [==============================] - 32s 940ms/step - loss: 0.3594 - acc: 0.8534 - val_loss: 0.7556 - val_acc: 0.7461\n",
            "Epoch 7/50\n",
            "34/34 [==============================] - 32s 935ms/step - loss: 0.3500 - acc: 0.8727 - val_loss: 0.8496 - val_acc: 0.6953\n",
            "Epoch 8/50\n",
            "34/34 [==============================] - 32s 938ms/step - loss: 0.3170 - acc: 0.8879 - val_loss: 1.0744 - val_acc: 0.6797\n",
            "Epoch 9/50\n",
            "34/34 [==============================] - 32s 935ms/step - loss: 0.3462 - acc: 0.8716 - val_loss: 0.9193 - val_acc: 0.6836\n",
            "Epoch 10/50\n",
            "34/34 [==============================] - 32s 931ms/step - loss: 0.2940 - acc: 0.8937 - val_loss: 0.6380 - val_acc: 0.8008\n",
            "Epoch 11/50\n",
            "34/34 [==============================] - 32s 933ms/step - loss: 0.2364 - acc: 0.9027 - val_loss: 0.8914 - val_acc: 0.7305\n",
            "Epoch 12/50\n",
            "34/34 [==============================] - 31s 926ms/step - loss: 0.2950 - acc: 0.8891 - val_loss: 0.7875 - val_acc: 0.7227\n",
            "Epoch 13/50\n",
            "34/34 [==============================] - 32s 924ms/step - loss: 0.2324 - acc: 0.9144 - val_loss: 1.0393 - val_acc: 0.7070\n",
            "Epoch 14/50\n",
            "34/34 [==============================] - 31s 925ms/step - loss: 0.2087 - acc: 0.9250 - val_loss: 0.7654 - val_acc: 0.7578\n",
            "Epoch 15/50\n",
            "34/34 [==============================] - 31s 919ms/step - loss: 0.1848 - acc: 0.9274 - val_loss: 0.5709 - val_acc: 0.8281\n",
            "Epoch 16/50\n",
            "34/34 [==============================] - 31s 922ms/step - loss: 0.2122 - acc: 0.9293 - val_loss: 0.5484 - val_acc: 0.8320\n",
            "Epoch 17/50\n",
            "34/34 [==============================] - 31s 917ms/step - loss: 0.2064 - acc: 0.9283 - val_loss: 0.4850 - val_acc: 0.8750\n",
            "Epoch 18/50\n",
            "34/34 [==============================] - 32s 931ms/step - loss: 0.1443 - acc: 0.9501 - val_loss: 0.5414 - val_acc: 0.8477\n",
            "Epoch 19/50\n",
            "34/34 [==============================] - 32s 948ms/step - loss: 0.1644 - acc: 0.9517 - val_loss: 0.4552 - val_acc: 0.8359\n",
            "Epoch 20/50\n",
            "34/34 [==============================] - 32s 950ms/step - loss: 0.2117 - acc: 0.9276 - val_loss: 0.5267 - val_acc: 0.8594\n",
            "Epoch 21/50\n",
            "34/34 [==============================] - 32s 953ms/step - loss: 0.1826 - acc: 0.9417 - val_loss: 0.3855 - val_acc: 0.8750\n",
            "Epoch 22/50\n",
            "34/34 [==============================] - 32s 945ms/step - loss: 0.1846 - acc: 0.9296 - val_loss: 0.4410 - val_acc: 0.8711\n",
            "Epoch 23/50\n",
            "34/34 [==============================] - 32s 936ms/step - loss: 0.1762 - acc: 0.9443 - val_loss: 0.4080 - val_acc: 0.8672\n",
            "Epoch 24/50\n",
            "34/34 [==============================] - 32s 930ms/step - loss: 0.2097 - acc: 0.9223 - val_loss: 0.5086 - val_acc: 0.8789\n",
            "Epoch 25/50\n",
            "34/34 [==============================] - 31s 919ms/step - loss: 0.1292 - acc: 0.9540 - val_loss: 0.4081 - val_acc: 0.8867\n",
            "Epoch 26/50\n",
            "34/34 [==============================] - 32s 927ms/step - loss: 0.1731 - acc: 0.9411 - val_loss: 0.5555 - val_acc: 0.8711\n",
            "Epoch 27/50\n",
            "34/34 [==============================] - 31s 922ms/step - loss: 0.1355 - acc: 0.9474 - val_loss: 0.5555 - val_acc: 0.8750\n",
            "Epoch 28/50\n",
            "34/34 [==============================] - 32s 929ms/step - loss: 0.2014 - acc: 0.9233 - val_loss: 0.4557 - val_acc: 0.8867\n",
            "Epoch 29/50\n",
            "34/34 [==============================] - 32s 948ms/step - loss: 0.1331 - acc: 0.9483 - val_loss: 0.4521 - val_acc: 0.8828\n",
            "Epoch 30/50\n",
            "34/34 [==============================] - 32s 937ms/step - loss: 0.1310 - acc: 0.9517 - val_loss: 0.5648 - val_acc: 0.8906\n",
            "Epoch 31/50\n",
            "34/34 [==============================] - 32s 944ms/step - loss: 0.1372 - acc: 0.9444 - val_loss: 0.4626 - val_acc: 0.8672\n",
            "Epoch 32/50\n",
            "34/34 [==============================] - 32s 938ms/step - loss: 0.1259 - acc: 0.9575 - val_loss: 0.4596 - val_acc: 0.8438\n",
            "Epoch 33/50\n",
            "34/34 [==============================] - 32s 938ms/step - loss: 0.1215 - acc: 0.9584 - val_loss: 0.5517 - val_acc: 0.8398\n",
            "Epoch 34/50\n",
            "34/34 [==============================] - 33s 956ms/step - loss: 0.1592 - acc: 0.9515 - val_loss: 0.6933 - val_acc: 0.8516\n",
            "Epoch 35/50\n",
            "34/34 [==============================] - 33s 962ms/step - loss: 0.0976 - acc: 0.9636 - val_loss: 0.4330 - val_acc: 0.8828\n",
            "Epoch 36/50\n",
            "34/34 [==============================] - 33s 976ms/step - loss: 0.0848 - acc: 0.9674 - val_loss: 0.5078 - val_acc: 0.8711\n",
            "Epoch 37/50\n",
            "34/34 [==============================] - 33s 968ms/step - loss: 0.0872 - acc: 0.9675 - val_loss: 0.5023 - val_acc: 0.8711\n",
            "Epoch 38/50\n",
            "34/34 [==============================] - 33s 969ms/step - loss: 0.1202 - acc: 0.9569 - val_loss: 0.4471 - val_acc: 0.9062\n",
            "Epoch 39/50\n",
            "34/34 [==============================] - 32s 949ms/step - loss: 0.0909 - acc: 0.9677 - val_loss: 0.6407 - val_acc: 0.8945\n",
            "Epoch 40/50\n",
            "34/34 [==============================] - 32s 935ms/step - loss: 0.0981 - acc: 0.9586 - val_loss: 0.4733 - val_acc: 0.9023\n",
            "Epoch 41/50\n",
            "34/34 [==============================] - 32s 937ms/step - loss: 0.0857 - acc: 0.9670 - val_loss: 0.5309 - val_acc: 0.8711\n",
            "Epoch 42/50\n",
            "34/34 [==============================] - 32s 930ms/step - loss: 0.0917 - acc: 0.9657 - val_loss: 0.5307 - val_acc: 0.8828\n",
            "Epoch 43/50\n",
            "34/34 [==============================] - 32s 917ms/step - loss: 0.1279 - acc: 0.9572 - val_loss: 0.5295 - val_acc: 0.8906\n",
            "Epoch 44/50\n",
            "34/34 [==============================] - 32s 926ms/step - loss: 0.1229 - acc: 0.9545 - val_loss: 0.4249 - val_acc: 0.8828\n",
            "Epoch 45/50\n",
            "34/34 [==============================] - 31s 923ms/step - loss: 0.0705 - acc: 0.9714 - val_loss: 0.5855 - val_acc: 0.8867\n",
            "Epoch 46/50\n",
            "34/34 [==============================] - 32s 932ms/step - loss: 0.1567 - acc: 0.9497 - val_loss: 0.4536 - val_acc: 0.8984\n",
            "Epoch 47/50\n",
            "34/34 [==============================] - 31s 920ms/step - loss: 0.0628 - acc: 0.9751 - val_loss: 0.5147 - val_acc: 0.8945\n",
            "Epoch 48/50\n",
            "34/34 [==============================] - 32s 938ms/step - loss: 0.0941 - acc: 0.9710 - val_loss: 0.6582 - val_acc: 0.8516\n",
            "Epoch 49/50\n",
            "34/34 [==============================] - 31s 927ms/step - loss: 0.1033 - acc: 0.9689 - val_loss: 0.5404 - val_acc: 0.8516\n",
            "Epoch 50/50\n",
            "34/34 [==============================] - 31s 920ms/step - loss: 0.0814 - acc: 0.9649 - val_loss: 0.7365 - val_acc: 0.8750\n"
          ],
          "name": "stdout"
        }
      ]
    },
    {
      "cell_type": "code",
      "metadata": {
        "id": "Jtk1A4dU4wtd"
      },
      "source": [
        "model.save('4-class-Covid19-Mod-Xception3.h5')\r\n",
        "!cp /content/\"4-class-Covid19-Mod-Xception3.h5\" /content/drive/\"My Drive\"/\"four_classes\""
      ],
      "execution_count": 69,
      "outputs": []
    },
    {
      "cell_type": "code",
      "metadata": {
        "id": "Zf9yJVhZpu7g",
        "colab": {
          "base_uri": "https://localhost:8080/"
        },
        "outputId": "ef2ecbde-e348-4ffe-e832-0a4052ccc3a4"
      },
      "source": [
        "model=load_model('/content/drive/My Drive/four_classes/4-class-Covid19-Mod-Xception.h5')\r\n",
        "print(model.summary())"
      ],
      "execution_count": 97,
      "outputs": [
        {
          "output_type": "stream",
          "text": [
            "Model: \"sequential\"\n",
            "_________________________________________________________________\n",
            "Layer (type)                 Output Shape              Param #   \n",
            "=================================================================\n",
            "xception (Functional)        (None, 5, 5, 2048)        20861480  \n",
            "_________________________________________________________________\n",
            "flatten (Flatten)            (None, 51200)             0         \n",
            "_________________________________________________________________\n",
            "dropout (Dropout)            (None, 51200)             0         \n",
            "_________________________________________________________________\n",
            "dense (Dense)                (None, 256)               13107456  \n",
            "_________________________________________________________________\n",
            "dense_1 (Dense)              (None, 4)                 1028      \n",
            "=================================================================\n",
            "Total params: 33,969,964\n",
            "Trainable params: 33,915,436\n",
            "Non-trainable params: 54,528\n",
            "_________________________________________________________________\n",
            "None\n"
          ],
          "name": "stdout"
        }
      ]
    },
    {
      "cell_type": "code",
      "metadata": {
        "colab": {
          "base_uri": "https://localhost:8080/",
          "height": 341
        },
        "id": "O0g5y_w4TY53",
        "outputId": "3c8f2615-0f8c-479b-da9d-5287d1d5c7a5"
      },
      "source": [
        "#Plot the accuracy and loss graphs\r\n",
        "\r\n",
        "import matplotlib.pyplot as plt\r\n",
        "\r\n",
        "\r\n",
        "def plot_acc_loss(result, epochs):\r\n",
        "    acc = result.history['acc']\r\n",
        "    loss = result.history['loss']\r\n",
        "    val_acc = result.history['val_acc']\r\n",
        "    val_loss = result.history['val_loss']\r\n",
        "    plt.figure(figsize=(15, 5))\r\n",
        "    plt.subplot(121)\r\n",
        "    plt.plot(range(1,epochs), acc[1:], label='Train_acc')\r\n",
        "    plt.plot(range(1,epochs), val_acc[1:], label='Val_acc')\r\n",
        "    plt.title('Accuracy over ' + str(epochs) + ' Epochs', size=15)\r\n",
        "    plt.legend()\r\n",
        "    plt.grid(True)\r\n",
        "    plt.subplot(122)\r\n",
        "    plt.plot(range(1,epochs), loss[1:], label='Train_loss')\r\n",
        "    plt.plot(range(1,epochs), val_loss[1:], label='Val_loss')\r\n",
        "    plt.title('Loss over ' + str(epochs) + ' Epochs', size=15)\r\n",
        "    plt.legend()\r\n",
        "    plt.grid(True)\r\n",
        "    plt.show()\r\n",
        "    \r\n",
        "plot_acc_loss(result, 50)"
      ],
      "execution_count": 98,
      "outputs": [
        {
          "output_type": "display_data",
          "data": {
            "image/png": "[encoded data removed]",
            "text/plain": [
              "<Figure size 1080x360 with 2 Axes>"
            ]
          },
          "metadata": {
            "tags": [],
            "needs_background": "light"
          }
        }
      ]
    },
    {
      "cell_type": "code",
      "metadata": {
        "colab": {
          "base_uri": "https://localhost:8080/"
        },
        "id": "QWSKLjlyUn8O",
        "outputId": "71e135f1-5fc2-4613-fb84-0349d42d61c0"
      },
      "source": [
        "# Create evaluate data generator from test set\r\n",
        "#Dont forget shuffle false\r\n",
        "\r\n",
        "test_datagen = ImageDataGenerator(rescale=1. / 255)\r\n",
        "test_dir =  '/content/drive/MyDrive/four_classes/test'\r\n",
        "eval_generator = test_datagen.flow_from_directory(test_dir,target_size=IMAGE_SIZE,batch_size=1, \r\n",
        "                                                  shuffle=False, seed=42, class_mode=\"categorical\")\r\n",
        "eval_generator.reset()"
      ],
      "execution_count": 99,
      "outputs": [
        {
          "output_type": "stream",
          "text": [
            "Found 242 images belonging to 4 classes.\n"
          ],
          "name": "stdout"
        }
      ]
    },
    {
      "cell_type": "code",
      "metadata": {
        "colab": {
          "base_uri": "https://localhost:8080/"
        },
        "id": "5bLag5uuVTma",
        "outputId": "d6a5863e-96dc-4d64-d2d3-961e8c8347ea"
      },
      "source": [
        "#Evalute the trained model on evaluate generator\r\n",
        "eval_generator.reset()  \r\n",
        "x = model.evaluate_generator(eval_generator,\r\n",
        "                           steps = np.ceil(len(eval_generator)), \r\n",
        "                           use_multiprocessing = False,\r\n",
        "                           verbose = 1,\r\n",
        "                           workers=1,\r\n",
        "                           )\r\n",
        "\r\n",
        "\r\n",
        "print('Test loss:' , x[0])\r\n",
        "print('Test accuracy:',x[1])\r\n",
        "\r\n",
        "#Poor test accuracy due to the small dataset size"
      ],
      "execution_count": 100,
      "outputs": [
        {
          "output_type": "stream",
          "text": [
            "/usr/local/lib/python3.6/dist-packages/tensorflow/python/keras/engine/training.py:1877: UserWarning: `Model.evaluate_generator` is deprecated and will be removed in a future version. Please use `Model.evaluate`, which supports generators.\n",
            "  warnings.warn('`Model.evaluate_generator` is deprecated and '\n"
          ],
          "name": "stderr"
        },
        {
          "output_type": "stream",
          "text": [
            "242/242 [==============================] - 5s 16ms/step - loss: 0.9725 - acc: 0.8554\n",
            "Test loss: 0.9725415110588074\n",
            "Test accuracy: 0.85537189245224\n"
          ],
          "name": "stdout"
        }
      ]
    },
    {
      "cell_type": "code",
      "metadata": {
        "id": "rI1nRGh-V8we"
      },
      "source": [
        "IMAGE_SIZE    = (150, 150)\r\n",
        "test_datagen = ImageDataGenerator(rescale=1. / 255)\r\n",
        "test_dir =  '/content/drive/MyDrive/four_classes/test'\r\n",
        "pred_generator = test_datagen.flow_from_directory(\r\n",
        "        test_dir,target_size=IMAGE_SIZE,\r\n",
        "        batch_size=1,\r\n",
        "        shuffle=False,\r\n",
        "        \r\n",
        "        seed=42,\r\n",
        "        \r\n",
        "        class_mode=\"categorical\")\r\n",
        "pred_generator.reset()   \r\n",
        "\r\n",
        "count=[0,0,0,0]\r\n",
        "\r\n",
        "files=pred_generator.filenames\r\n",
        "\r\n",
        "for i in range(len(files)):\r\n",
        "  x,y = pred_generator.next()\r\n",
        "  img = x\r\n",
        "  predict=model.predict(img)\r\n",
        "  \r\n",
        "  p=np.argmax(predict, axis=-1)\r\n",
        "  print(str(p[0])+\" \"+files[pred_generator.batch_index-1])\r\n",
        "  #print(predict)\r\n",
        "  #p=model.predict_classes(img)\r\n",
        "  count[p[0]]+=1\r\n",
        "  \r\n",
        "#print(str(p[0])+\" \"+files[i]) \r\n",
        "print(count)"
      ],
      "execution_count": null,
      "outputs": []
    },
    {
      "cell_type": "code",
      "metadata": {
        "colab": {
          "base_uri": "https://localhost:8080/",
          "height": 610
        },
        "id": "wPGYLFuIYOkX",
        "outputId": "dcae3b0b-4d8c-4392-b2d1-3edb69b88724"
      },
      "source": [
        "from sklearn.metrics import confusion_matrix\r\n",
        "from sklearn.metrics import plot_confusion_matrix\r\n",
        "from sklearn.metrics import classification_report\r\n",
        "\r\n",
        "filenames = eval_generator.filenames\r\n",
        "nb_samples = len(filenames)\r\n",
        "eval_generator.reset()  \r\n",
        "predict = model.predict_generator(eval_generator,steps = np.ceil(len(eval_generator)))\r\n",
        "pp=predict\r\n",
        "predict=np.argmax(predict, axis=-1)\r\n",
        "classes= eval_generator.classes[eval_generator.index_array]\r\n",
        "acc=sum(predict==classes)/len(predict)\r\n",
        "names=[\"covid\",\"normal\",\"pneumonia_bac\",\"pneumonia_vir\"]\r\n",
        "\r\n",
        "font = {\r\n",
        "'family': 'Times New Roman',\r\n",
        "'size': 12\r\n",
        "}\r\n",
        "plt.rc('font', **font)\r\n",
        "cm = confusion_matrix(classes, predict)\r\n",
        "print(cm)\r\n",
        "print(classification_report(classes,predict))\r\n",
        "plt.imshow(cm, cmap=plt.cm.Blues)\r\n",
        "plt.xlabel('Predicted labels \\nAccuracy: {:0.2f}'.format(acc*100))\r\n",
        "plt.ylabel(\"True labels\")\r\n",
        "plt.xticks(classes, [])\r\n",
        "plt.yticks(classes, [])\r\n",
        "plt.title('Confusion matrix ')\r\n",
        "plt.colorbar()\r\n",
        "plt.show()"
      ],
      "execution_count": 102,
      "outputs": [
        {
          "output_type": "stream",
          "text": [
            "/usr/local/lib/python3.6/dist-packages/tensorflow/python/keras/engine/training.py:1905: UserWarning: `Model.predict_generator` is deprecated and will be removed in a future version. Please use `Model.predict`, which supports generators.\n",
            "  warnings.warn('`Model.predict_generator` is deprecated and '\n"
          ],
          "name": "stderr"
        },
        {
          "output_type": "stream",
          "text": [
            "[[19  0  0  1]\n",
            " [ 6 71  0  0]\n",
            " [ 1  4 62  8]\n",
            " [ 2  5  8 55]]\n",
            "              precision    recall  f1-score   support\n",
            "\n",
            "           0       0.68      0.95      0.79        20\n",
            "           1       0.89      0.92      0.90        77\n",
            "           2       0.89      0.83      0.86        75\n",
            "           3       0.86      0.79      0.82        70\n",
            "\n",
            "    accuracy                           0.86       242\n",
            "   macro avg       0.83      0.87      0.84       242\n",
            "weighted avg       0.86      0.86      0.86       242\n",
            "\n"
          ],
          "name": "stdout"
        },
        {
          "output_type": "display_data",
          "data": {
            "image/png": "[encoded data removed]",
            "text/plain": [
              "<Figure size 432x288 with 2 Axes>"
            ]
          },
          "metadata": {
            "tags": [],
            "needs_background": "light"
          }
        }
      ]
    },
    {
      "cell_type": "code",
      "metadata": {
        "id": "1OUMR5bceX_K"
      },
      "source": [
        ""
      ],
      "execution_count": null,
      "outputs": []
    }
  ]
}